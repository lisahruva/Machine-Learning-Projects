{
  "nbformat": 4,
  "nbformat_minor": 0,
  "metadata": {
    "colab": {
      "name": " Homework2 - Classification.ipynb",
      "provenance": [],
      "collapsed_sections": [],
      "include_colab_link": true
    },
    "kernelspec": {
      "name": "python3",
      "display_name": "Python 3"
    },
    "accelerator": "GPU"
  },
  "cells": [
    {
      "cell_type": "markdown",
      "metadata": {
        "id": "view-in-github",
        "colab_type": "text"
      },
      "source": [
        "<a href=\"https://colab.research.google.com/github/lisahruva/Machine-Learning-Projects/blob/master/Homework2_Classification.ipynb\" target=\"_parent\"><img src=\"https://colab.research.google.com/assets/colab-badge.svg\" alt=\"Open In Colab\"/></a>"
      ]
    },
    {
      "cell_type": "markdown",
      "metadata": {
        "id": "eC_jdtpOtkpZ",
        "colab_type": "text"
      },
      "source": [
        "#Import necessary libraries\n",
        "\n",
        "- Library for matrix calculations `numpy`\n",
        "- Library for scientific plotting `matplotlib`\n",
        "- Command (_jupiter magic_)  `%matplotlib inline` says that all graphic output will be sent to the browser\n"
      ]
    },
    {
      "cell_type": "code",
      "metadata": {
        "id": "2kH0G33QSA50",
        "colab_type": "code",
        "outputId": "d6a9c9fa-0f4e-48d5-e211-9d578bbeb694",
        "colab": {
          "base_uri": "https://localhost:8080/",
          "height": 35
        }
      },
      "source": [
        "import tensorflow as tf\n",
        "tf.test.gpu_device_name()\n",
        "from tensorflow import keras\n",
        "\n",
        "\n",
        "import numpy as np\n",
        "from tensorflow.keras.optimizers import RMSprop\n",
        "import matplotlib.pyplot as plt\n",
        "%matplotlib inline \n",
        "\n",
        "print(tf.__version__)"
      ],
      "execution_count": 0,
      "outputs": [
        {
          "output_type": "stream",
          "text": [
            "2.2.0-rc3\n"
          ],
          "name": "stdout"
        }
      ]
    },
    {
      "cell_type": "markdown",
      "metadata": {
        "id": "CMGngzIhtkph",
        "colab_type": "text"
      },
      "source": [
        "## Load data\n",
        "\n",
        "We solve the problem of classification using a dataset. Mount google drive, load zipped dataset of images and extract it."
      ]
    },
    {
      "cell_type": "code",
      "metadata": {
        "id": "T99_oBntnIHH",
        "colab_type": "code",
        "outputId": "f612083d-5f78-4740-cd3b-34cbdea22209",
        "colab": {
          "base_uri": "https://localhost:8080/",
          "height": 127
        }
      },
      "source": [
        "from google.colab import drive\n",
        "drive.mount('/content/drive')"
      ],
      "execution_count": 0,
      "outputs": [
        {
          "output_type": "stream",
          "text": [
            "Go to this URL in a browser: https://accounts.google.com/o/oauth2/auth?client_id=947318989803-6bn6qk8qdgf4n4g3pfee6491hc0brc4i.apps.googleusercontent.com&redirect_uri=urn%3aietf%3awg%3aoauth%3a2.0%3aoob&response_type=code&scope=email%20https%3a%2f%2fwww.googleapis.com%2fauth%2fdocs.test%20https%3a%2f%2fwww.googleapis.com%2fauth%2fdrive%20https%3a%2f%2fwww.googleapis.com%2fauth%2fdrive.photos.readonly%20https%3a%2f%2fwww.googleapis.com%2fauth%2fpeopleapi.readonly\n",
            "\n",
            "Enter your authorization code:\n",
            "··········\n",
            "Mounted at /content/drive\n"
          ],
          "name": "stdout"
        }
      ]
    },
    {
      "cell_type": "code",
      "metadata": {
        "id": "_MSm0owGSP4K",
        "colab_type": "code",
        "colab": {}
      },
      "source": [
        "train_file = \"/content/drive/My Drive/Colab Notebooks/train.zip\""
      ],
      "execution_count": 0,
      "outputs": []
    },
    {
      "cell_type": "code",
      "metadata": {
        "id": "ID0NpvLYSTse",
        "colab_type": "code",
        "colab": {}
      },
      "source": [
        "import zipfile\n",
        "\n",
        "with zipfile.ZipFile(train_file, 'r') as z:\n",
        "    z.extractall()"
      ],
      "execution_count": 0,
      "outputs": []
    },
    {
      "cell_type": "markdown",
      "metadata": {
        "colab_type": "text",
        "id": "HG533VwOm9v_"
      },
      "source": [
        "## Extract Label and Images\n",
        "\n",
        "Extract images and labels from dataset"
      ]
    },
    {
      "cell_type": "code",
      "metadata": {
        "id": "6NYFDoJhSVym",
        "colab_type": "code",
        "colab": {}
      },
      "source": [
        "import os\n",
        "import cv2\n",
        "\n",
        "def load_image(file_path):\n",
        "    return cv2.imread(file_path)\n",
        "\n",
        "def extract_label(file_name):\n",
        "    return 1 if \"One\" in file_name else 2 if \"Two\" in file_name else 3 if \"Three\" in file_name else 4 if \"Four\" in file_name else 5 if \"Five\" in file_name else 0\n",
        "\n",
        "train_path = \"./train/\"\n",
        "image_files = os.listdir(train_path)\n",
        "train_images = [load_image(train_path + file) for file in image_files]\n",
        "train_labels = [extract_label(file) for file in image_files] "
      ],
      "execution_count": 0,
      "outputs": []
    },
    {
      "cell_type": "code",
      "metadata": {
        "id": "sDsZwBMNeH0T",
        "colab_type": "code",
        "colab": {}
      },
      "source": [
        "def preprocess_image(img, side=128):\n",
        "    min_side = min(img.shape[0], img.shape[1])\n",
        "    img = img[:min_side, :min_side]\n",
        "    img = cv2.resize(img, (side,side))\n",
        "    img = cv2.cvtColor(img, cv2.COLOR_BGR2GRAY)\n",
        "    return img / 255.0"
      ],
      "execution_count": 0,
      "outputs": []
    },
    {
      "cell_type": "code",
      "metadata": {
        "id": "ZU_L_CaWe_qR",
        "colab_type": "code",
        "outputId": "7da98ab3-fd0f-4938-8a2a-a52462fa47c8",
        "colab": {
          "base_uri": "https://localhost:8080/",
          "height": 221
        }
      },
      "source": [
        "preview_index = 1002\n",
        "plt.subplot(1,2,1)\n",
        "plt.imshow(train_images[preview_index])\n",
        "plt.subplot(1,2,2)\n",
        "plt.imshow(preprocess_image(train_images[preview_index]), cmap=\"gray\")"
      ],
      "execution_count": 0,
      "outputs": [
        {
          "output_type": "execute_result",
          "data": {
            "text/plain": [
              "<matplotlib.image.AxesImage at 0x7f403b075438>"
            ]
          },
          "metadata": {
            "tags": []
          },
          "execution_count": 10
        },
        {
          "output_type": "display_data",
          "data": {
            "image/png": "[encoded data removed]",
            "text/plain": [
              "<Figure size 432x288 with 2 Axes>"
            ]
          },
          "metadata": {
            "tags": [],
            "needs_background": "light"
          }
        }
      ]
    },
    {
      "cell_type": "code",
      "metadata": {
        "id": "bRLGfusfePjM",
        "colab_type": "code",
        "colab": {}
      },
      "source": [
        "for i in range(len(train_images)):\n",
        "    train_images[i] = preprocess_image(train_images[i])"
      ],
      "execution_count": 0,
      "outputs": []
    },
    {
      "cell_type": "code",
      "metadata": {
        "id": "mA1c1osgfO-G",
        "colab_type": "code",
        "outputId": "a8445055-43bd-4055-c981-f81241d55a4d",
        "colab": {
          "base_uri": "https://localhost:8080/",
          "height": 35
        }
      },
      "source": [
        "train_images = np.expand_dims(train_images, axis=-1)\n",
        "train_labels = np.array(train_labels)\n",
        "print(train_images.shape, train_labels.shape)\n"
      ],
      "execution_count": 0,
      "outputs": [
        {
          "output_type": "stream",
          "text": [
            "(12006, 128, 128, 1) (12006,)\n"
          ],
          "name": "stdout"
        }
      ]
    },
    {
      "cell_type": "code",
      "metadata": {
        "id": "xDh8CIeDcjbh",
        "colab_type": "code",
        "colab": {}
      },
      "source": [
        "X = train_images\n",
        "y = train_labels"
      ],
      "execution_count": 0,
      "outputs": []
    },
    {
      "cell_type": "code",
      "metadata": {
        "id": "qH4pLBJ0cozg",
        "colab_type": "code",
        "outputId": "c7be39c7-9660-4b54-c775-b00b786fbbc0",
        "colab": {
          "base_uri": "https://localhost:8080/",
          "height": 35
        }
      },
      "source": [
        "np.shape(X)"
      ],
      "execution_count": 0,
      "outputs": [
        {
          "output_type": "execute_result",
          "data": {
            "text/plain": [
              "(12006, 128, 128, 1)"
            ]
          },
          "metadata": {
            "tags": []
          },
          "execution_count": 14
        }
      ]
    },
    {
      "cell_type": "markdown",
      "metadata": {
        "id": "7nF2nqvutkp2",
        "colab_type": "text"
      },
      "source": [
        "## Let's draw some images\n",
        "First, construct a matrix."
      ]
    },
    {
      "cell_type": "code",
      "metadata": {
        "id": "OGzdw4FzcsRy",
        "colab_type": "code",
        "colab": {}
      },
      "source": [
        "def draw_digit(Img, digit_true, digit_pred = ''):\n",
        "    plt.xticks([])\n",
        "    plt.yticks([])\n",
        "    plt.imshow(np.reshape(Img, (128, 128)), interpolation = 'nearest')\n",
        "    plt.text(0, 7, str(digit_true), color = 'b')\n",
        "    plt.text(0, 1, str(digit_pred), color = 'r')\n",
        "    plt.set_cmap('binary')    "
      ],
      "execution_count": 0,
      "outputs": []
    },
    {
      "cell_type": "markdown",
      "metadata": {
        "id": "yfyM_gJkysiI",
        "colab_type": "text"
      },
      "source": [
        "Draw first 60 images:\n",
        "\n"
      ]
    },
    {
      "cell_type": "code",
      "metadata": {
        "id": "emcreW5fcwLL",
        "colab_type": "code",
        "outputId": "839ac644-0e58-4ee4-8a74-94fca7985655",
        "colab": {
          "base_uri": "https://localhost:8080/",
          "height": 528
        }
      },
      "source": [
        "plt.figure(figsize = (16, 9))\n",
        "for i_subplot in range(60):\n",
        "    plt.subplot(6, 10, i_subplot + 1)\n",
        "    draw_digit(X[i_subplot, :], y[i_subplot])"
      ],
      "execution_count": 0,
      "outputs": [
        {
          "output_type": "display_data",
          "data": {
            "image/png": "[encoded data removed]",
            "text/plain": [
              "<Figure size 1152x648 with 60 Axes>"
            ]
          },
          "metadata": {
            "tags": []
          }
        }
      ]
    },
    {
      "cell_type": "markdown",
      "metadata": {
        "id": "xyhH7zEltkqC",
        "colab_type": "text"
      },
      "source": [
        "## Break the data into train and test sets \n",
        "\n",
        "For this we'll use `train_test_split` 33% - for the test set, 67% - for the train set"
      ]
    },
    {
      "cell_type": "code",
      "metadata": {
        "id": "_bmiPQ-pc5Fj",
        "colab_type": "code",
        "colab": {}
      },
      "source": [
        "from sklearn.model_selection import train_test_split\n",
        "X_train, X_test, y_train, y_test = train_test_split(X, y, test_size = 0.33, random_state = 42)\n"
      ],
      "execution_count": 0,
      "outputs": []
    },
    {
      "cell_type": "markdown",
      "metadata": {
        "id": "Mo3Go0Otzg8M",
        "colab_type": "text"
      },
      "source": [
        "The size of the test and the train sets:"
      ]
    },
    {
      "cell_type": "code",
      "metadata": {
        "id": "S7peeCzIdBAk",
        "colab_type": "code",
        "outputId": "708761fb-ca85-4889-c938-79caecc08440",
        "colab": {
          "base_uri": "https://localhost:8080/",
          "height": 35
        }
      },
      "source": [
        "N_train = np.shape(X_train)\n",
        "N_test = np.shape(X_test)\n",
        "print(N_train, N_test)"
      ],
      "execution_count": 0,
      "outputs": [
        {
          "output_type": "stream",
          "text": [
            "(8044, 128, 128, 1) (3962, 128, 128, 1)\n"
          ],
          "name": "stdout"
        }
      ]
    },
    {
      "cell_type": "markdown",
      "metadata": {
        "id": "kUZD5TjKtkqN",
        "colab_type": "text"
      },
      "source": [
        "## Train the model\n",
        "\n",
        "We'll train a simple neural network - multilayer perceptron (MLP)"
      ]
    },
    {
      "cell_type": "code",
      "metadata": {
        "id": "AwiBV23SdDdA",
        "colab_type": "code",
        "colab": {}
      },
      "source": [
        "from sklearn.neural_network import MLPClassifier"
      ],
      "execution_count": 0,
      "outputs": []
    },
    {
      "cell_type": "markdown",
      "metadata": {
        "id": "ZzTsZn8K0SXG",
        "colab_type": "text"
      },
      "source": [
        "First, we define the (hiper) parameters of the Neural Network (in particular, the number of neurons is 100)"
      ]
    },
    {
      "cell_type": "code",
      "metadata": {
        "id": "DzZPRwbZdWFJ",
        "colab_type": "code",
        "colab": {}
      },
      "source": [
        "mlp_model = MLPClassifier(hidden_layer_sizes = (100,), solver = 'lbfgs', \n",
        "                          activation = 'logistic', random_state = 42)\n"
      ],
      "execution_count": 0,
      "outputs": []
    },
    {
      "cell_type": "markdown",
      "metadata": {
        "id": "ZbxHmUp90iaC",
        "colab_type": "text"
      },
      "source": [
        "Train the model:"
      ]
    },
    {
      "cell_type": "code",
      "metadata": {
        "id": "L0kT0RxUgiY8",
        "colab_type": "code",
        "colab": {}
      },
      "source": [
        "X_train = X_train.reshape(8044,1*128*128)\n",
        "X_test = X_test.reshape(3962,1*128*128)"
      ],
      "execution_count": 0,
      "outputs": []
    },
    {
      "cell_type": "code",
      "metadata": {
        "id": "fQNEMcFDdX-w",
        "colab_type": "code",
        "outputId": "d47e7249-73b3-440d-85da-7f492bf07cb4",
        "colab": {
          "base_uri": "https://localhost:8080/",
          "height": 161
        }
      },
      "source": [
        "mlp_model.fit(X_train, y_train)"
      ],
      "execution_count": 0,
      "outputs": [
        {
          "output_type": "execute_result",
          "data": {
            "text/plain": [
              "MLPClassifier(activation='logistic', alpha=0.0001, batch_size='auto',\n",
              "              beta_1=0.9, beta_2=0.999, early_stopping=False, epsilon=1e-08,\n",
              "              hidden_layer_sizes=(100,), learning_rate='constant',\n",
              "              learning_rate_init=0.001, max_fun=15000, max_iter=200,\n",
              "              momentum=0.9, n_iter_no_change=10, nesterovs_momentum=True,\n",
              "              power_t=0.5, random_state=42, shuffle=True, solver='lbfgs',\n",
              "              tol=0.0001, validation_fraction=0.1, verbose=False,\n",
              "              warm_start=False)"
            ]
          },
          "metadata": {
            "tags": []
          },
          "execution_count": 22
        }
      ]
    },
    {
      "cell_type": "markdown",
      "metadata": {
        "id": "Ar3SWZmMtkqh",
        "colab_type": "text"
      },
      "source": [
        "## Now we can classify:\n",
        "\n",
        "For example, let's take the 42th image"
      ]
    },
    {
      "cell_type": "code",
      "metadata": {
        "id": "pRC4MYyHdaKu",
        "colab_type": "code",
        "outputId": "118edbf1-f10f-4711-b118-1d0fba23ba06",
        "colab": {
          "base_uri": "https://localhost:8080/",
          "height": 252
        }
      },
      "source": [
        "i = 16\n",
        "Img = X_test[i, :]\n",
        "dig = y_test[i]\n",
        "draw_digit(Img, dig)"
      ],
      "execution_count": 0,
      "outputs": [
        {
          "output_type": "display_data",
          "data": {
            "image/png": "[encoded data removed]",
            "text/plain": [
              "<Figure size 432x288 with 1 Axes>"
            ]
          },
          "metadata": {
            "tags": []
          }
        }
      ]
    },
    {
      "cell_type": "markdown",
      "metadata": {
        "id": "HkhcvnTn01TC",
        "colab_type": "text"
      },
      "source": [
        "Which class does the classifier return?"
      ]
    },
    {
      "cell_type": "code",
      "metadata": {
        "id": "m0dy6EfjhnEy",
        "colab_type": "code",
        "outputId": "5d67cf8d-e50a-4ed8-a581-6c10293fcb00",
        "colab": {
          "base_uri": "https://localhost:8080/",
          "height": 35
        }
      },
      "source": [
        "mlp_model.predict([Img])"
      ],
      "execution_count": 0,
      "outputs": [
        {
          "output_type": "execute_result",
          "data": {
            "text/plain": [
              "array([0])"
            ]
          },
          "metadata": {
            "tags": []
          },
          "execution_count": 24
        }
      ]
    },
    {
      "cell_type": "code",
      "metadata": {
        "id": "RcIBlfLphqIU",
        "colab_type": "code",
        "outputId": "3a0951ec-0399-42e8-8d0b-2a6dd9df9b1b",
        "colab": {
          "base_uri": "https://localhost:8080/",
          "height": 257
        }
      },
      "source": [
        "i = 16\n",
        "Img = X_test[i, :]\n",
        "dig = y_test[i]\n",
        "dig_pred = mlp_model.predict([Img])[0]\n",
        "draw_digit(Img, dig, dig_pred)"
      ],
      "execution_count": 0,
      "outputs": [
        {
          "output_type": "display_data",
          "data": {
            "image/png": "[encoded data removed]",
            "text/plain": [
              "<Figure size 432x288 with 1 Axes>"
            ]
          },
          "metadata": {
            "tags": []
          }
        }
      ]
    },
    {
      "cell_type": "markdown",
      "metadata": {
        "id": "hKdXudwltkrG",
        "colab_type": "text"
      },
      "source": [
        "## What about the quality of the classifier?\n",
        "\n",
        "Now let’s input the entire training and the entire test set:"
      ]
    },
    {
      "cell_type": "code",
      "metadata": {
        "id": "wKjaDsb2h8re",
        "colab_type": "code",
        "colab": {}
      },
      "source": [
        "y_train_pred = mlp_model.predict(X_train)\n",
        "y_test_pred = mlp_model.predict(X_test)"
      ],
      "execution_count": 0,
      "outputs": []
    },
    {
      "cell_type": "markdown",
      "metadata": {
        "id": "NpadRgDetkrT",
        "colab_type": "text"
      },
      "source": [
        "Train and test errors::"
      ]
    },
    {
      "cell_type": "code",
      "metadata": {
        "id": "BMOeB2c_iBBp",
        "colab_type": "code",
        "outputId": "c2a187f9-95b8-4927-f079-f1a539db8e20",
        "colab": {
          "base_uri": "https://localhost:8080/",
          "height": 35
        }
      },
      "source": [
        "print(np.mean(y_train != y_train_pred), np.mean(y_test != y_test_pred))"
      ],
      "execution_count": 0,
      "outputs": [
        {
          "output_type": "stream",
          "text": [
            "0.0 0.0\n"
          ],
          "name": "stdout"
        }
      ]
    },
    {
      "cell_type": "markdown",
      "metadata": {
        "id": "0-5QomT6tkrd",
        "colab_type": "text"
      },
      "source": [
        "Other way:"
      ]
    },
    {
      "cell_type": "code",
      "metadata": {
        "id": "8L0Jk979iDmB",
        "colab_type": "code",
        "outputId": "d1dd1c76-16da-48fa-d2e5-ac5540501be2",
        "colab": {
          "base_uri": "https://localhost:8080/",
          "height": 35
        }
      },
      "source": [
        "print(mlp_model.score(X_train, y_train), mlp_model.score(X_test, y_test))"
      ],
      "execution_count": 0,
      "outputs": [
        {
          "output_type": "stream",
          "text": [
            "1.0 1.0\n"
          ],
          "name": "stdout"
        }
      ]
    },
    {
      "cell_type": "code",
      "metadata": {
        "id": "h8zqeoQQiGQB",
        "colab_type": "code",
        "outputId": "d733d51e-5ce3-4e08-f4e3-7497c4d1a8c7",
        "colab": {
          "base_uri": "https://localhost:8080/",
          "height": 35
        }
      },
      "source": [
        "print(1 - mlp_model.score(X_test, y_test))"
      ],
      "execution_count": 0,
      "outputs": [
        {
          "output_type": "stream",
          "text": [
            "0.0\n"
          ],
          "name": "stdout"
        }
      ]
    },
    {
      "cell_type": "markdown",
      "metadata": {
        "id": "fzZgMKwJ28-m",
        "colab_type": "text"
      },
      "source": [
        "# All erroneous cases:"
      ]
    },
    {
      "cell_type": "code",
      "metadata": {
        "id": "yuwUxuCjiJMs",
        "colab_type": "code",
        "outputId": "d13ab17e-46d7-4dba-ebe1-f002a78f54ca",
        "colab": {
          "base_uri": "https://localhost:8080/",
          "height": 35
        }
      },
      "source": [
        "train_error_cases = np.where(y_train != y_train_pred)\n",
        "test_error_cases = np.where(y_test != y_test_pred)\n",
        "print(train_error_cases, test_error_cases)"
      ],
      "execution_count": 0,
      "outputs": [
        {
          "output_type": "stream",
          "text": [
            "(array([], dtype=int64),) (array([], dtype=int64),)\n"
          ],
          "name": "stdout"
        }
      ]
    },
    {
      "cell_type": "code",
      "metadata": {
        "id": "JeOyHeiQiMpQ",
        "colab_type": "code",
        "colab": {}
      },
      "source": [
        "plt.figure(figsize = (16, 16))\n",
        "i_subplot = 1 \n",
        "for i in np.nditer(test_error_cases):\n",
        "    Img = X_test[i, :]\n",
        "    digit = y_test[i]\n",
        "    digit_pred = y_test[i]\n",
        "    plt.subplot(8, 8, i_subplot)\n",
        "    draw_digit(Img, digit, digit_pred)\n",
        "    i_subplot += 1"
      ],
      "execution_count": 0,
      "outputs": []
    },
    {
      "cell_type": "markdown",
      "metadata": {
        "id": "txxUCohetkrr",
        "colab_type": "text"
      },
      "source": [
        "## Hyperparameter choosing\n",
        "\n",
        "\n",
        "Find the _optimal_ value for parameter `alpha` (weight decay)\n",
        "\n",
        "(Instead of using `for` cycle we could use `sklearn.model_selection.GridSearchCV`)"
      ]
    },
    {
      "cell_type": "code",
      "metadata": {
        "id": "5JEa9Na0iQXY",
        "colab_type": "code",
        "colab": {}
      },
      "source": [
        "alpha_arr = np.logspace(-3, 2, num=21)\n",
        "test_err = []\n",
        "train_err = []\n",
        "for alpha in alpha_arr:\n",
        "    mlp_model = MLPClassifier(alpha = alpha, hidden_layer_sizes = (100,), \n",
        "                              solver = 'lbfgs', activation = 'logistic', \n",
        "                              random_state = 42)\n",
        "    mlp_model.fit(X_train, y_train)\n",
        "\n",
        "    y_train_pred = mlp_model.predict(X_train)\n",
        "    y_test_pred = mlp_model.predict(X_test)\n",
        "    train_err.append(np.mean(y_train != y_train_pred))\n",
        "    test_err.append(np.mean(y_test != y_test_pred))"
      ],
      "execution_count": 0,
      "outputs": []
    },
    {
      "cell_type": "code",
      "metadata": {
        "id": "4DBXpOVHkiLY",
        "colab_type": "code",
        "outputId": "ac706a69-7227-4ff5-f730-0e61ae3a60a3",
        "colab": {
          "base_uri": "https://localhost:8080/",
          "height": 125
        }
      },
      "source": [
        "alpha_arr"
      ],
      "execution_count": 0,
      "outputs": [
        {
          "output_type": "execute_result",
          "data": {
            "text/plain": [
              "array([1.00000000e-03, 1.77827941e-03, 3.16227766e-03, 5.62341325e-03,\n",
              "       1.00000000e-02, 1.77827941e-02, 3.16227766e-02, 5.62341325e-02,\n",
              "       1.00000000e-01, 1.77827941e-01, 3.16227766e-01, 5.62341325e-01,\n",
              "       1.00000000e+00, 1.77827941e+00, 3.16227766e+00, 5.62341325e+00,\n",
              "       1.00000000e+01, 1.77827941e+01, 3.16227766e+01, 5.62341325e+01,\n",
              "       1.00000000e+02])"
            ]
          },
          "metadata": {
            "tags": []
          },
          "execution_count": 33
        }
      ]
    },
    {
      "cell_type": "markdown",
      "metadata": {
        "id": "ZP3s_XtV1YpF",
        "colab_type": "text"
      },
      "source": [
        "Draw the graphs of a dependence of the train and test errors on `alpha` "
      ]
    },
    {
      "cell_type": "code",
      "metadata": {
        "id": "E_g_YkHiknoc",
        "colab_type": "code",
        "outputId": "a8053281-1cf4-430e-8340-89dc35c9135b",
        "colab": {
          "base_uri": "https://localhost:8080/",
          "height": 299
        }
      },
      "source": [
        "plt.semilogx(alpha_arr, train_err, 'b-o', label = 'train')\n",
        "plt.semilogx(alpha_arr, test_err, 'r-o', label = 'test')\n",
        "#plt.xlim([np.max(alpha_arr), np.min(alpha_arr)])\n",
        "plt.title('Error vs. alpha')\n",
        "plt.xlabel('alpha')\n",
        "plt.ylabel('error')\n",
        "plt.legend()\n",
        "pass"
      ],
      "execution_count": 0,
      "outputs": [
        {
          "output_type": "display_data",
          "data": {
            "image/png": "[encoded data removed]",
            "text/plain": [
              "<Figure size 432x288 with 1 Axes>"
            ]
          },
          "metadata": {
            "tags": [],
            "needs_background": "light"
          }
        }
      ]
    },
    {
      "cell_type": "markdown",
      "metadata": {
        "id": "w0RgbdIatkr1",
        "colab_type": "text"
      },
      "source": [
        "Minimum values of the errors:"
      ]
    },
    {
      "cell_type": "code",
      "metadata": {
        "id": "FqUiXzZOlhgz",
        "colab_type": "code",
        "outputId": "78484267-3b11-4732-dca1-219251771706",
        "colab": {
          "base_uri": "https://localhost:8080/",
          "height": 35
        }
      },
      "source": [
        "min_train_err = np.min(train_err)\n",
        "min_test_err = np.min(test_err)\n",
        "\n",
        "print(min_train_err, min_test_err)"
      ],
      "execution_count": 0,
      "outputs": [
        {
          "output_type": "stream",
          "text": [
            "0.0 0.0\n"
          ],
          "name": "stdout"
        }
      ]
    },
    {
      "cell_type": "markdown",
      "metadata": {
        "id": "0p1WFO6Vtkr_",
        "colab_type": "text"
      },
      "source": [
        "Optimum value of the `alpha`:"
      ]
    },
    {
      "cell_type": "code",
      "metadata": {
        "id": "X-HePMzEljfU",
        "colab_type": "code",
        "outputId": "a3145a04-1cf7-408d-9d16-aa614659ed5f",
        "colab": {
          "base_uri": "https://localhost:8080/",
          "height": 125
        }
      },
      "source": [
        "alpha_opt = alpha_arr[test_err == min_test_err]\n",
        "print(alpha_opt)"
      ],
      "execution_count": 0,
      "outputs": [
        {
          "output_type": "stream",
          "text": [
            "[1.00000000e-03 1.77827941e-03 3.16227766e-03 5.62341325e-03\n",
            " 1.00000000e-02 1.77827941e-02 3.16227766e-02 5.62341325e-02\n",
            " 1.00000000e-01 1.77827941e-01 3.16227766e-01 5.62341325e-01\n",
            " 1.00000000e+00 1.77827941e+00 3.16227766e+00 5.62341325e+00\n",
            " 1.00000000e+01 1.77827941e+01 3.16227766e+01 5.62341325e+01\n",
            " 1.00000000e+02]\n"
          ],
          "name": "stdout"
        }
      ]
    },
    {
      "cell_type": "code",
      "metadata": {
        "id": "8qkTLJTVlmIY",
        "colab_type": "code",
        "colab": {}
      },
      "source": [
        "alpha_opt = alpha_opt[0]"
      ],
      "execution_count": 0,
      "outputs": []
    },
    {
      "cell_type": "markdown",
      "metadata": {
        "id": "nGngqObvtksI",
        "colab_type": "text"
      },
      "source": [
        "## The classifier for *optimal* value of `alpha`:"
      ]
    },
    {
      "cell_type": "markdown",
      "metadata": {
        "id": "KGBbtNTLtksK",
        "colab_type": "text"
      },
      "source": [
        "Repeat the training:"
      ]
    },
    {
      "cell_type": "code",
      "metadata": {
        "id": "N2Cw_A8VlpNk",
        "colab_type": "code",
        "outputId": "622d3ef6-4eac-4cca-c00f-5e131b7271ed",
        "colab": {
          "base_uri": "https://localhost:8080/",
          "height": 53
        }
      },
      "source": [
        "mlp_model = MLPClassifier(alpha = alpha_opt, hidden_layer_sizes = (100,),\n",
        "                          solver = 'lbfgs', activation = 'logistic', random_state = 42)\n",
        "mlp_model.fit(X_train, y_train)\n",
        "\n",
        "y_train_pred = mlp_model.predict(X_train)\n",
        "y_test_pred = mlp_model.predict(X_test)\n",
        "print(np.mean(y_train != y_train_pred))\n",
        "print(np.mean(y_test != y_test_pred))"
      ],
      "execution_count": 0,
      "outputs": [
        {
          "output_type": "stream",
          "text": [
            "0.0\n",
            "0.0\n"
          ],
          "name": "stdout"
        }
      ]
    },
    {
      "cell_type": "markdown",
      "metadata": {
        "id": "PPRxdPmmtksS",
        "colab_type": "text"
      },
      "source": [
        "## Confusion matrix\n",
        "\n",
        "Confusion matrix allows us to estimate the quality of the classifier. The rows of the matrix correspond to the real classes. The columns to the predicted classes. At the intersection of the row `i` and the column` j` is the number of objects of the `i`th class, classified by the classifier as the `j`th class. In Python, all indices are numbered beginning from 0."
      ]
    },
    {
      "cell_type": "code",
      "metadata": {
        "id": "8Y6AK7k6lubz",
        "colab_type": "code",
        "outputId": "474f0c64-4c61-4663-ac1d-b976ac7a11ab",
        "colab": {
          "base_uri": "https://localhost:8080/",
          "height": 35
        }
      },
      "source": [
        "from sklearn.metrics import confusion_matrix\n",
        "print(confusion_matrix(y_test, y_test_pred))"
      ],
      "execution_count": 0,
      "outputs": [
        {
          "output_type": "stream",
          "text": [
            "[[3962]]\n"
          ],
          "name": "stdout"
        }
      ]
    },
    {
      "cell_type": "code",
      "metadata": {
        "id": "ZFsqjPL0lwkD",
        "colab_type": "code",
        "outputId": "aa48429e-3bae-465e-a523-4edf23b040cf",
        "colab": {
          "base_uri": "https://localhost:8080/",
          "height": 279
        }
      },
      "source": [
        "M = confusion_matrix(y_test, y_test_pred)\n",
        "M = np.sqrt(M)\n",
        "plt.imshow(M, interpolation = 'nearest')\n",
        "plt.set_cmap('binary')\n",
        "plt.xticks(range(10))\n",
        "plt.yticks(range(10))\n",
        "plt.xlabel(\"predicted label\")\n",
        "plt.ylabel(\"true label\")\n",
        "plt.colorbar()\n",
        "pass\n"
      ],
      "execution_count": 0,
      "outputs": [
        {
          "output_type": "display_data",
          "data": {
            "image/png": "[encoded data removed]",
            "text/plain": [
              "<Figure size 432x288 with 2 Axes>"
            ]
          },
          "metadata": {
            "tags": [],
            "needs_background": "light"
          }
        }
      ]
    },
    {
      "cell_type": "code",
      "metadata": {
        "id": "wrJWpkUHl3TE",
        "colab_type": "code",
        "colab": {}
      },
      "source": [
        "from sklearn.metrics import plot_confusion_matrix\n",
        "plot_confusion_matrix(y_test, y_test_pred) # Since Version 0.22"
      ],
      "execution_count": 0,
      "outputs": []
    },
    {
      "cell_type": "markdown",
      "metadata": {
        "id": "9m9qbCB3tksi",
        "colab_type": "text"
      },
      "source": [
        "## Other metrics of quality"
      ]
    },
    {
      "cell_type": "code",
      "metadata": {
        "id": "kGRoaCqbl5uT",
        "colab_type": "code",
        "outputId": "14273adc-6a64-4929-e5ad-cefcb9eec02c",
        "colab": {
          "base_uri": "https://localhost:8080/",
          "height": 161
        }
      },
      "source": [
        "from sklearn.metrics import classification_report\n",
        "print(classification_report(y_test, y_test_pred))"
      ],
      "execution_count": 0,
      "outputs": [
        {
          "output_type": "stream",
          "text": [
            "              precision    recall  f1-score   support\n",
            "\n",
            "           0       1.00      1.00      1.00      3962\n",
            "\n",
            "    accuracy                           1.00      3962\n",
            "   macro avg       1.00      1.00      1.00      3962\n",
            "weighted avg       1.00      1.00      1.00      3962\n",
            "\n"
          ],
          "name": "stdout"
        }
      ]
    }
  ]
}